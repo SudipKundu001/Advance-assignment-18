{
 "cells": [
  {
   "cell_type": "markdown",
   "id": "0b3fc906",
   "metadata": {},
   "source": [
    "## python advance assignment_18"
   ]
  },
  {
   "cell_type": "markdown",
   "id": "f83184c6",
   "metadata": {},
   "source": [
    "**Q1. Describe the differences between text and binary files in a single paragraph?**\n",
    "\n",
    "Ans:-Text files are special subset of binary files that are used to store human readable characters as a rich text document or \n",
    "\n",
    "plain text document. Text files also store data in sequential bytes but bits in text file represents characters.\n",
    "\n",
    "Binary file are those typical files that store data in the form of sequence of bytes grouped into eight bits or sometimes \n",
    "\n",
    "sixteen bits. These bits represent custom data and such files can store multiple types of data (images, audio, text, etc) \n",
    "\n",
    "under a single file.\n",
    "\n",
    "Binary file contains the data in the form of 0 and 1(series of binary values) and text files contains the data in the \n",
    "\n",
    "form of stream of characters.In general binary files are identified as executable files. But binary files are not in readable \n",
    "\n",
    "form as like text file"
   ]
  },
  {
   "cell_type": "markdown",
   "id": "49247204",
   "metadata": {},
   "source": [
    "**Q2. What are some scenarios where using text files will be the better option? When would you like to \n",
    "use binary files instead of text files?**\n",
    "\n",
    "Ans:-Text files are less prone to get corrupted as any undesired change may just show up once the file is opened and then can \n",
    "\n",
    "easily be removed.Because of simple and standard format to store data, text files are one of the most used file formats for \n",
    "\n",
    "storing textual data and are supported in many applications.\n",
    "\n",
    "Since binary files store data in sequential bytes, a small change in the file can corrupt the file and make it unreadable to \n",
    "\n",
    "the supporting application.\n",
    "\n",
    "A small error in a binary file corrupts the file and is not easy to detect. Since the data is not human readable it also adds \n",
    "\n",
    "to the security of the content as one might not be able to get data if the structure is not known.Input and output are much \n",
    "\n",
    "faster using binary data in computer games and its safe for security reason."
   ]
  },
  {
   "cell_type": "markdown",
   "id": "fe9b9a3d",
   "metadata": {},
   "source": [
    "**Q3. What are some of the issues with using binary operations to read and write a Python integer \n",
    "directly to disc?**\n",
    "\n",
    "Ans:-When we read or write a python integer using binary operations\n",
    "\n",
    "Binary operations deal with raw data\n",
    "\n",
    "One needs to identify how many bytes one would read or write."
   ]
  },
  {
   "cell_type": "markdown",
   "id": "d0adf85f",
   "metadata": {},
   "source": [
    "**Q4. Describe a benefit of using the with keyword instead of explicitly opening a file.**\n",
    "\n",
    "Ans:-Using with means that the file will be closed as soon as you leave the block. This is beneficial because closing a file \n",
    "\n",
    "is something that can easily be forgotten and ties up resources that you no longer need"
   ]
  },
  {
   "cell_type": "markdown",
   "id": "59436eb4",
   "metadata": {},
   "source": [
    "**Q5. Does Python have the trailing newline while reading a line of text? Does Python append a \n",
    "newline when you write a line of text?**\n",
    "\n",
    "Ans:-Yes, Python have the trailing newline while reading a line of text. When we write a newline has to be provided in python \n",
    "\n",
    "excpicitly."
   ]
  },
  {
   "cell_type": "markdown",
   "id": "bfd24649",
   "metadata": {},
   "source": [
    "**Q6. What file operations enable for random-access operation?**\n",
    "\n",
    "Ans:-The file operations enable for random-access operation are seek() and tell()"
   ]
  },
  {
   "cell_type": "markdown",
   "id": "017f292f",
   "metadata": {},
   "source": [
    "**Q7. When do you think you'll use the struct package the most?**\n",
    "\n",
    "Ans:-This module performs conversions between Python values and C structs represented as Python bytes objects. Format strings \n",
    "\n",
    "are the mechanism used to specify the expected layout when packing and unpacking data"
   ]
  },
  {
   "cell_type": "markdown",
   "id": "369719fb",
   "metadata": {},
   "source": [
    "**Q8. When is pickling the best option?**\n",
    "\n",
    "Ans:-Python pickle module is used for serializing and de-serializing a Python object structure. Any object in Python can be \n",
    "\n",
    "pickled so that it can be saved on disk. What pickle does is that it “serializes” the object first before writing it to file. \n",
    "\n",
    "Pickling is a way to convert a python object (list, dict, etc.) into a character stream. The idea is that this character \n",
    "\n",
    "stream contains all the information necessary to reconstruct the object in another python script.Pickling is best option for \n",
    "\n",
    "creating a new binary file using python."
   ]
  },
  {
   "cell_type": "markdown",
   "id": "76f1e08f",
   "metadata": {},
   "source": [
    "**Q9. When will it be best to use the shelve package?**\n",
    "\n",
    "Ans:-The shelve module implements persistent storage for arbitrary Python objects which can be pickled, using a dictionary-\n",
    "\n",
    "like API. The shelve module can be used as a simple persistent storage option for Python objects when a relational database is \n",
    "\n",
    "overkill. The shelf is accessed by keys, just as with a dictionary."
   ]
  },
  {
   "cell_type": "markdown",
   "id": "2be4b2d7",
   "metadata": {},
   "source": [
    "**Q10. What is a special restriction when using the shelve package, as opposed to using other data \n",
    "dictionaries?**\n",
    "\n",
    "Ans:-The shelf dictionary has certain restrictions. Only string data type can be used as key in this special dictionary \n",
    "\n",
    "object, whereas any picklable Python object can be used as value."
   ]
  },
  {
   "cell_type": "markdown",
   "id": "6527bbfa",
   "metadata": {},
   "source": []
  }
 ],
 "metadata": {
  "kernelspec": {
   "display_name": "Python 3 (ipykernel)",
   "language": "python",
   "name": "python3"
  },
  "language_info": {
   "codemirror_mode": {
    "name": "ipython",
    "version": 3
   },
   "file_extension": ".py",
   "mimetype": "text/x-python",
   "name": "python",
   "nbconvert_exporter": "python",
   "pygments_lexer": "ipython3",
   "version": "3.9.7"
  }
 },
 "nbformat": 4,
 "nbformat_minor": 5
}
